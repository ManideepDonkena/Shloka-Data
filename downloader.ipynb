{
 "cells": [
  {
   "cell_type": "code",
   "execution_count": 14,
   "id": "6a10e112",
   "metadata": {},
   "outputs": [
    {
     "name": "stdout",
     "output_type": "stream",
     "text": [
      "Requirement already satisfied: tqdm in /home/manideepdonkena/Documents/SPRITUAL/Dairy_Project/dairy/lib/python3.10/site-packages (4.67.1)\n"
     ]
    }
   ],
   "source": [
    "! pip install tqdm\n"
   ]
  },
  {
   "cell_type": "code",
   "execution_count": 1,
   "id": "224a4c16",
   "metadata": {},
   "outputs": [],
   "source": [
    "from yt_dlp import YoutubeDL"
   ]
  },
  {
   "cell_type": "code",
   "execution_count": null,
   "id": "a711a95d",
   "metadata": {},
   "outputs": [],
   "source": [
    "import os\n",
    "\n",
    "folder = \"BrajaBeats_Gita_MP3\"\n",
    "# get the list of all files in the folder\n",
    "files = os.listdir(folder)\n",
    "\n",
    "match_filter = lambda info: None if 'Bhagavad-gita' in info.get('title', '') else 'Not a Bhagavad-gita video',\n",
    "# update the filter to exclude if the video title contains the charaters in the files list as it is already downloaded and check weather the video contains 'Bhagavad-gita' in the title\n",
    "# and if the video title contains any of the files in the folder, then it is already downloaded\n"
   ]
  },
  {
   "cell_type": "code",
   "execution_count": null,
   "id": "6310c33b",
   "metadata": {},
   "outputs": [
    {
     "name": "stderr",
     "output_type": "stream",
     "text": [
      "WARNING: [youtube] Fem0gOTibSw: Some tv client https formats have been skipped as they are DRM protected. The current session may have an experiment that applies DRM to all videos on the tv client. See  https://github.com/yt-dlp/yt-dlp/issues/12563  for more details.\n",
      "WARNING: [youtube] Fem0gOTibSw: Some web client https formats have been skipped as they are missing a url. YouTube is forcing SABR streaming for this client. See  https://github.com/yt-dlp/yt-dlp/issues/12482  for more details\n"
     ]
    },
    {
     "name": "stdout",
     "output_type": "stream",
     "text": [
      "                                                                         \r"
     ]
    },
    {
     "name": "stderr",
     "output_type": "stream",
     "text": [
      "WARNING: [youtube] IftjgvsKU9A: Some tv client https formats have been skipped as they are DRM protected. The current session may have an experiment that applies DRM to all videos on the tv client. See  https://github.com/yt-dlp/yt-dlp/issues/12563  for more details.\n",
      "WARNING: [youtube] IftjgvsKU9A: Some web client https formats have been skipped as they are missing a url. YouTube is forcing SABR streaming for this client. See  https://github.com/yt-dlp/yt-dlp/issues/12482  for more details\n"
     ]
    },
    {
     "name": "stdout",
     "output_type": "stream",
     "text": [
      "                                                                       \r"
     ]
    },
    {
     "name": "stderr",
     "output_type": "stream",
     "text": [
      "WARNING: [youtube] Y07l8QvFdhs: Some tv client https formats have been skipped as they are DRM protected. The current session may have an experiment that applies DRM to all videos on the tv client. See  https://github.com/yt-dlp/yt-dlp/issues/12563  for more details.\n",
      "WARNING: [youtube] Y07l8QvFdhs: Some web client https formats have been skipped as they are missing a url. YouTube is forcing SABR streaming for this client. See  https://github.com/yt-dlp/yt-dlp/issues/12482  for more details\n"
     ]
    },
    {
     "name": "stdout",
     "output_type": "stream",
     "text": [
      "                                                                        \r"
     ]
    },
    {
     "name": "stderr",
     "output_type": "stream",
     "text": [
      "WARNING: [youtube] rjyK7irsA48: Some tv client https formats have been skipped as they are DRM protected. The current session may have an experiment that applies DRM to all videos on the tv client. See  https://github.com/yt-dlp/yt-dlp/issues/12563  for more details.\n",
      "WARNING: [youtube] rjyK7irsA48: Some web client https formats have been skipped as they are missing a url. YouTube is forcing SABR streaming for this client. See  https://github.com/yt-dlp/yt-dlp/issues/12482  for more details\n"
     ]
    },
    {
     "name": "stdout",
     "output_type": "stream",
     "text": [
      "                                                                         \r"
     ]
    },
    {
     "name": "stderr",
     "output_type": "stream",
     "text": [
      "WARNING: [youtube] GMVMGP2_HhY: Some tv client https formats have been skipped as they are DRM protected. The current session may have an experiment that applies DRM to all videos on the tv client. See  https://github.com/yt-dlp/yt-dlp/issues/12563  for more details.\n",
      "WARNING: [youtube] GMVMGP2_HhY: Some web client https formats have been skipped as they are missing a url. YouTube is forcing SABR streaming for this client. See  https://github.com/yt-dlp/yt-dlp/issues/12482  for more details\n"
     ]
    },
    {
     "name": "stdout",
     "output_type": "stream",
     "text": [
      "                                                                         \r"
     ]
    },
    {
     "name": "stderr",
     "output_type": "stream",
     "text": [
      "WARNING: [youtube] rni_cbZQ9yo: Some tv client https formats have been skipped as they are DRM protected. The current session may have an experiment that applies DRM to all videos on the tv client. See  https://github.com/yt-dlp/yt-dlp/issues/12563  for more details.\n",
      "WARNING: [youtube] rni_cbZQ9yo: Some web client https formats have been skipped as they are missing a url. YouTube is forcing SABR streaming for this client. See  https://github.com/yt-dlp/yt-dlp/issues/12482  for more details\n"
     ]
    },
    {
     "name": "stdout",
     "output_type": "stream",
     "text": [
      "                                                                       \r"
     ]
    },
    {
     "name": "stderr",
     "output_type": "stream",
     "text": [
      "WARNING: [youtube] RI13asMLxzE: Some tv client https formats have been skipped as they are DRM protected. The current session may have an experiment that applies DRM to all videos on the tv client. See  https://github.com/yt-dlp/yt-dlp/issues/12563  for more details.\n",
      "WARNING: [youtube] RI13asMLxzE: Some web client https formats have been skipped as they are missing a url. YouTube is forcing SABR streaming for this client. See  https://github.com/yt-dlp/yt-dlp/issues/12482  for more details\n"
     ]
    },
    {
     "name": "stdout",
     "output_type": "stream",
     "text": [
      "                                                                       \r"
     ]
    },
    {
     "name": "stderr",
     "output_type": "stream",
     "text": [
      "WARNING: [youtube] RDVT88-TtxU: Some tv client https formats have been skipped as they are DRM protected. The current session may have an experiment that applies DRM to all videos on the tv client. See  https://github.com/yt-dlp/yt-dlp/issues/12563  for more details.\n",
      "WARNING: [youtube] RDVT88-TtxU: Some web client https formats have been skipped as they are missing a url. YouTube is forcing SABR streaming for this client. See  https://github.com/yt-dlp/yt-dlp/issues/12482  for more details\n"
     ]
    },
    {
     "name": "stdout",
     "output_type": "stream",
     "text": [
      "                                                                       \r"
     ]
    },
    {
     "name": "stderr",
     "output_type": "stream",
     "text": [
      "WARNING: [youtube] jEaSR9KVW-I: Some tv client https formats have been skipped as they are DRM protected. The current session may have an experiment that applies DRM to all videos on the tv client. See  https://github.com/yt-dlp/yt-dlp/issues/12563  for more details.\n",
      "WARNING: [youtube] jEaSR9KVW-I: Some web client https formats have been skipped as they are missing a url. YouTube is forcing SABR streaming for this client. See  https://github.com/yt-dlp/yt-dlp/issues/12482  for more details\n"
     ]
    },
    {
     "name": "stdout",
     "output_type": "stream",
     "text": [
      "[download]  18.8% of ~   1.26MiB at   81.30KiB/s ETA 00:03 (frag 3/12)"
     ]
    }
   ],
   "source": [
    "\n",
    "# Configure yt-dlp to extract only shorts\n",
    "ydl_opts = {\n",
    "    'format': 'bestaudio/best',\n",
    "    'postprocessors': [{\n",
    "        'key': 'FFmpegExtractAudio',\n",
    "        'preferredcodec': 'mp3',\n",
    "        'preferredquality': '192',\n",
    "    }],\n",
    "    'match_filter': lambda info: None if 'Bhagavad-gita' in info.get('title', '') or any(file in info.get('title', '') for file in files) else 'Not a Bhagavad-gita video',\n",
    "    'outtmpl': os.path.join(folder, '%(title)s.%(ext)s'),\n",
    "    'quiet': True,\n",
    "    'noplaylist': True,  # To download only the video, not the entire playlist\n",
    "    'playlistrandom': True,  # To get all videos\n",
    "}\n",
    "\n",
    "# Get shorts from the channel\n",
    "with YoutubeDL(ydl_opts) as ydl:\n",
    "    ydl.download(['https://www.youtube.com/@BrajaBeats/shorts'])\n"
   ]
  },
  {
   "cell_type": "markdown",
   "id": "aba11ef5",
   "metadata": {},
   "source": [
    "# File System Inspection\n",
    "\n",
    "Use these cells to check what files are available in the current directory."
   ]
  },
  {
   "cell_type": "code",
   "execution_count": 6,
   "id": "644ea8a9",
   "metadata": {},
   "outputs": [
    {
     "name": "stdout",
     "output_type": "stream",
     "text": [
      "Fixing permissions for current directory...\n",
      "Fixed permissions for directory: /home/manideepdonkena/Documents/SPRITUAL/audio_download\n",
      "Fixed permissions for file: /home/manideepdonkena/Documents/SPRITUAL/audio_download/tags.json\n",
      "Fixed permissions for file: /home/manideepdonkena/Documents/SPRITUAL/audio_download/chage_name.py\n",
      "Fixed permissions for file: /home/manideepdonkena/Documents/SPRITUAL/audio_download/waveform_tagger.py\n",
      "Fixed permissions for file: /home/manideepdonkena/Documents/SPRITUAL/audio_download/gita.json\n",
      "Fixed permissions for file: /home/manideepdonkena/Documents/SPRITUAL/audio_download/downloader.ipynb\n",
      "\n",
      "Fixing permissions for audio directory...\n",
      "Fixed permissions for directory: /home/manideepdonkena/Documents/SPRITUAL/audio_download/BrajaBeats_Gita_MP3\n",
      "Fixed permissions for file: /home/manideepdonkena/Documents/SPRITUAL/audio_download/BrajaBeats_Gita_MP3/Bhagavad-gita 9.20.mp3\n",
      "Fixed permissions for file: /home/manideepdonkena/Documents/SPRITUAL/audio_download/BrajaBeats_Gita_MP3/Bhagavad-gita 4.26.mp3\n",
      "Fixed permissions for file: /home/manideepdonkena/Documents/SPRITUAL/audio_download/BrajaBeats_Gita_MP3/Bhagavad-gita 1.43.mp3\n",
      "Fixed permissions for file: /home/manideepdonkena/Documents/SPRITUAL/audio_download/BrajaBeats_Gita_MP3/Bhagavad-gita 4.16.mp3\n",
      "Fixed permissions for file: /home/manideepdonkena/Documents/SPRITUAL/audio_download/BrajaBeats_Gita_MP3/Bhagavad-gita 7.15.mp3\n",
      "Fixed permissions for file: /home/manideepdonkena/Documents/SPRITUAL/audio_download/BrajaBeats_Gita_MP3/Bhagavad-gita 9.8.mp3\n",
      "Fixed permissions for file: /home/manideepdonkena/Documents/SPRITUAL/audio_download/BrajaBeats_Gita_MP3/Bhagavad-gita 1.6.mp3\n",
      "Fixed permissions for file: /home/manideepdonkena/Documents/SPRITUAL/audio_download/BrajaBeats_Gita_MP3/Bhagavad-gita 18.47.mp3\n",
      "Fixed permissions for file: /home/manideepdonkena/Documents/SPRITUAL/audio_download/BrajaBeats_Gita_MP3/Bhagavad-gita 5.11.mp3\n",
      "Fixed permissions for file: /home/manideepdonkena/Documents/SPRITUAL/audio_download/BrajaBeats_Gita_MP3/Bhagavad-gita 5.6.mp3\n",
      "Fixed permissions for file: /home/manideepdonkena/Documents/SPRITUAL/audio_download/BrajaBeats_Gita_MP3/Bhagavad-gita 8.18.mp3\n",
      "Fixed permissions for file: /home/manideepdonkena/Documents/SPRITUAL/audio_download/BrajaBeats_Gita_MP3/Bhagavad-gita 9.1.mp3\n",
      "Fixed permissions for file: /home/manideepdonkena/Documents/SPRITUAL/audio_download/BrajaBeats_Gita_MP3/Bhagavad-gita 1.31.mp3\n",
      "Fixed permissions for file: /home/manideepdonkena/Documents/SPRITUAL/audio_download/BrajaBeats_Gita_MP3/Bhagavad-gita 18.66.mp3\n",
      "Fixed permissions for file: /home/manideepdonkena/Documents/SPRITUAL/audio_download/BrajaBeats_Gita_MP3/Bhagavad-gita 17.21.mp3\n",
      "Fixed permissions for file: /home/manideepdonkena/Documents/SPRITUAL/audio_download/BrajaBeats_Gita_MP3/Bhagavad-gita 8.5.mp3\n",
      "Fixed permissions for file: /home/manideepdonkena/Documents/SPRITUAL/audio_download/BrajaBeats_Gita_MP3/Bhagavad-gita 5.14.mp3\n",
      "Fixed permissions for file: /home/manideepdonkena/Documents/SPRITUAL/audio_download/BrajaBeats_Gita_MP3/Bhagavad-gita 4.9.mp3\n",
      "Fixed permissions for file: /home/manideepdonkena/Documents/SPRITUAL/audio_download/BrajaBeats_Gita_MP3/Bhagavad-gita 18.31.mp3\n",
      "Fixed permissions for file: /home/manideepdonkena/Documents/SPRITUAL/audio_download/BrajaBeats_Gita_MP3/Bhagavad-gita 13.9.mp3\n",
      "Fixed permissions for file: /home/manideepdonkena/Documents/SPRITUAL/audio_download/BrajaBeats_Gita_MP3/Bhagavad-gita 18.36.mp3\n",
      "Fixed permissions for file: /home/manideepdonkena/Documents/SPRITUAL/audio_download/BrajaBeats_Gita_MP3/Bhagavad-gita 6.38.mp3\n",
      "Fixed permissions for file: /home/manideepdonkena/Documents/SPRITUAL/audio_download/BrajaBeats_Gita_MP3/Bhagavad-gita 18.27.mp3\n",
      "Fixed permissions for file: /home/manideepdonkena/Documents/SPRITUAL/audio_download/BrajaBeats_Gita_MP3/Bhagavad-gita 8.27.mp3\n",
      "Fixed permissions for file: /home/manideepdonkena/Documents/SPRITUAL/audio_download/BrajaBeats_Gita_MP3/Bhagavad-gita 2.65.mp3\n",
      "Fixed permissions for file: /home/manideepdonkena/Documents/SPRITUAL/audio_download/BrajaBeats_Gita_MP3/Bhagavad-gita 13.6.mp3\n",
      "Fixed permissions for file: /home/manideepdonkena/Documents/SPRITUAL/audio_download/BrajaBeats_Gita_MP3/Bhagavad-gita 18.57.mp3\n",
      "Fixed permissions for file: /home/manideepdonkena/Documents/SPRITUAL/audio_download/BrajaBeats_Gita_MP3/Bhagavad-gita 4.30.mp3\n",
      "Fixed permissions for file: /home/manideepdonkena/Documents/SPRITUAL/audio_download/BrajaBeats_Gita_MP3/Bhagavad-gita 6.42.mp3\n",
      "Fixed permissions for file: /home/manideepdonkena/Documents/SPRITUAL/audio_download/BrajaBeats_Gita_MP3/Bhagavad-gita 18.23.mp3\n",
      "Fixed permissions for file: /home/manideepdonkena/Documents/SPRITUAL/audio_download/BrajaBeats_Gita_MP3/Bhagavad-gita 14.18.mp3\n",
      "Fixed permissions for file: /home/manideepdonkena/Documents/SPRITUAL/audio_download/BrajaBeats_Gita_MP3/Bhagavad-gita 1.32.mp3\n",
      "Fixed permissions for file: /home/manideepdonkena/Documents/SPRITUAL/audio_download/BrajaBeats_Gita_MP3/Bhagavad-gita 5.23.mp3\n",
      "Fixed permissions for file: /home/manideepdonkena/Documents/SPRITUAL/audio_download/BrajaBeats_Gita_MP3/Bhagavad-gita 6.33.mp3\n",
      "Fixed permissions for file: /home/manideepdonkena/Documents/SPRITUAL/audio_download/BrajaBeats_Gita_MP3/Bhagavad-gita 14.7.mp3\n",
      "Fixed permissions for file: /home/manideepdonkena/Documents/SPRITUAL/audio_download/BrajaBeats_Gita_MP3/Bhagavad-gita 1.38.mp3\n",
      "Fixed permissions for file: /home/manideepdonkena/Documents/SPRITUAL/audio_download/BrajaBeats_Gita_MP3/Bhagavad-gita 7.22.mp3\n",
      "Fixed permissions for file: /home/manideepdonkena/Documents/SPRITUAL/audio_download/BrajaBeats_Gita_MP3/Bhagavad-gita 13.26.mp3\n",
      "Fixed permissions for file: /home/manideepdonkena/Documents/SPRITUAL/audio_download/BrajaBeats_Gita_MP3/Bhagavad-gita 1.33.mp3\n",
      "Fixed permissions for file: /home/manideepdonkena/Documents/SPRITUAL/audio_download/BrajaBeats_Gita_MP3/Bhagavad-gita 3.9.mp3\n",
      "Fixed permissions for file: /home/manideepdonkena/Documents/SPRITUAL/audio_download/BrajaBeats_Gita_MP3/Bhagavad-gita 2.34.mp3\n",
      "Fixed permissions for file: /home/manideepdonkena/Documents/SPRITUAL/audio_download/BrajaBeats_Gita_MP3/Bhagavad-gita 2.72.mp3\n",
      "Fixed permissions for file: /home/manideepdonkena/Documents/SPRITUAL/audio_download/BrajaBeats_Gita_MP3/Bhagavad-gita 14.10.mp3\n",
      "Fixed permissions for file: /home/manideepdonkena/Documents/SPRITUAL/audio_download/BrajaBeats_Gita_MP3/Bhagavad-gita 3.29.mp3\n",
      "Fixed permissions for file: /home/manideepdonkena/Documents/SPRITUAL/audio_download/BrajaBeats_Gita_MP3/Bhagavad-gita 17.23.mp3\n",
      "Fixed permissions for file: /home/manideepdonkena/Documents/SPRITUAL/audio_download/BrajaBeats_Gita_MP3/Bhagavad-gita 18.49.mp3\n",
      "Fixed permissions for file: /home/manideepdonkena/Documents/SPRITUAL/audio_download/BrajaBeats_Gita_MP3/Bhagavad-gita 15.9.mp3\n",
      "Fixed permissions for file: /home/manideepdonkena/Documents/SPRITUAL/audio_download/BrajaBeats_Gita_MP3/Bhagavad-gita 2.35.mp3\n",
      "Fixed permissions for file: /home/manideepdonkena/Documents/SPRITUAL/audio_download/BrajaBeats_Gita_MP3/Bhagavad-gita 14.26.mp3\n",
      "Fixed permissions for file: /home/manideepdonkena/Documents/SPRITUAL/audio_download/BrajaBeats_Gita_MP3/Bhagavad-gita 9.2.mp3\n",
      "Fixed permissions for file: /home/manideepdonkena/Documents/SPRITUAL/audio_download/BrajaBeats_Gita_MP3/Bhagavad-gita 6.27.mp3\n",
      "Fixed permissions for file: /home/manideepdonkena/Documents/SPRITUAL/audio_download/BrajaBeats_Gita_MP3/Bhagavad-gita 7.27.mp3\n",
      "Fixed permissions for file: /home/manideepdonkena/Documents/SPRITUAL/audio_download/BrajaBeats_Gita_MP3/Bhagavad-gita 3.43.mp3\n",
      "Fixed permissions for file: /home/manideepdonkena/Documents/SPRITUAL/audio_download/BrajaBeats_Gita_MP3/Bhagavad-gita 17.28.mp3\n",
      "Fixed permissions for file: /home/manideepdonkena/Documents/SPRITUAL/audio_download/BrajaBeats_Gita_MP3/Bhagavad-gita 14.6.mp3\n",
      "Fixed permissions for file: /home/manideepdonkena/Documents/SPRITUAL/audio_download/BrajaBeats_Gita_MP3/Bhagavad-gita 2.44.mp3\n",
      "Fixed permissions for file: /home/manideepdonkena/Documents/SPRITUAL/audio_download/BrajaBeats_Gita_MP3/Bhagavad-gita 5.1.mp3\n",
      "Fixed permissions for file: /home/manideepdonkena/Documents/SPRITUAL/audio_download/BrajaBeats_Gita_MP3/Bhagavad-gita 7.25.mp3\n",
      "Fixed permissions for file: /home/manideepdonkena/Documents/SPRITUAL/audio_download/BrajaBeats_Gita_MP3/Bhagavad-gita 13.15.mp3\n",
      "Fixed permissions for file: /home/manideepdonkena/Documents/SPRITUAL/audio_download/BrajaBeats_Gita_MP3/Bhagavad-gita 6.12.mp3\n",
      "Fixed permissions for file: /home/manideepdonkena/Documents/SPRITUAL/audio_download/BrajaBeats_Gita_MP3/Bhagavad-gita 7.8.mp3\n",
      "Fixed permissions for file: /home/manideepdonkena/Documents/SPRITUAL/audio_download/BrajaBeats_Gita_MP3/Bhagavad-gita 6.44.mp3\n",
      "Fixed permissions for file: /home/manideepdonkena/Documents/SPRITUAL/audio_download/BrajaBeats_Gita_MP3/Bhagavad-gita 7.9.mp3\n",
      "Fixed permissions for file: /home/manideepdonkena/Documents/SPRITUAL/audio_download/BrajaBeats_Gita_MP3/Bhagavad-gita 7.3.mp3\n",
      "Fixed permissions for file: /home/manideepdonkena/Documents/SPRITUAL/audio_download/BrajaBeats_Gita_MP3/Bhagavad-gita 18.3.mp3\n",
      "Fixed permissions for file: /home/manideepdonkena/Documents/SPRITUAL/audio_download/BrajaBeats_Gita_MP3/Bhagavad-gita 1.14.mp3\n",
      "Fixed permissions for file: /home/manideepdonkena/Documents/SPRITUAL/audio_download/BrajaBeats_Gita_MP3/Bhagavad-gita 13.23.mp3\n",
      "Fixed permissions for file: /home/manideepdonkena/Documents/SPRITUAL/audio_download/BrajaBeats_Gita_MP3/Bhagavad-gita 1.34.mp3\n",
      "Fixed permissions for file: /home/manideepdonkena/Documents/SPRITUAL/audio_download/BrajaBeats_Gita_MP3/Bhagavad-gita 2.27.mp3\n",
      "Fixed permissions for file: /home/manideepdonkena/Documents/SPRITUAL/audio_download/BrajaBeats_Gita_MP3/Bhagavad-gita 18.33.mp3\n",
      "Fixed permissions for file: /home/manideepdonkena/Documents/SPRITUAL/audio_download/BrajaBeats_Gita_MP3/Bhagavad-gita 15.12.mp3\n",
      "Fixed permissions for file: /home/manideepdonkena/Documents/SPRITUAL/audio_download/BrajaBeats_Gita_MP3/Bhagavad-gita 14.14.mp3\n",
      "Fixed permissions for file: /home/manideepdonkena/Documents/SPRITUAL/audio_download/BrajaBeats_Gita_MP3/Bhagavad-gita 6.30.mp3\n",
      "Fixed permissions for file: /home/manideepdonkena/Documents/SPRITUAL/audio_download/BrajaBeats_Gita_MP3/Bhagavad-gita 3.23.mp3\n",
      "Fixed permissions for file: /home/manideepdonkena/Documents/SPRITUAL/audio_download/BrajaBeats_Gita_MP3/Bhagavad-gita 16.13.mp3\n",
      "Fixed permissions for file: /home/manideepdonkena/Documents/SPRITUAL/audio_download/BrajaBeats_Gita_MP3/Bhagavad-gita 9.22.mp3\n",
      "Fixed permissions for file: /home/manideepdonkena/Documents/SPRITUAL/audio_download/BrajaBeats_Gita_MP3/Bhagavad-gita 8.15.mp3\n",
      "Fixed permissions for file: /home/manideepdonkena/Documents/SPRITUAL/audio_download/BrajaBeats_Gita_MP3/Bhagavad-gita 9.10.mp3\n",
      "Fixed permissions for file: /home/manideepdonkena/Documents/SPRITUAL/audio_download/BrajaBeats_Gita_MP3/Bhagavad-gita 15.13.mp3\n",
      "Fixed permissions for file: /home/manideepdonkena/Documents/SPRITUAL/audio_download/BrajaBeats_Gita_MP3/Bhagavad-gita 9.4.mp3\n",
      "Fixed permissions for file: /home/manideepdonkena/Documents/SPRITUAL/audio_download/BrajaBeats_Gita_MP3/Bhagavad-gita 4.7.mp3\n",
      "Fixed permissions for file: /home/manideepdonkena/Documents/SPRITUAL/audio_download/BrajaBeats_Gita_MP3/Bhagavad-gita 2.21.mp3\n",
      "Fixed permissions for file: /home/manideepdonkena/Documents/SPRITUAL/audio_download/BrajaBeats_Gita_MP3/Bhagavad-gita 1.40.mp3\n",
      "Fixed permissions for file: /home/manideepdonkena/Documents/SPRITUAL/audio_download/BrajaBeats_Gita_MP3/Bhagavad-gita 13.1.mp3\n",
      "Fixed permissions for file: /home/manideepdonkena/Documents/SPRITUAL/audio_download/BrajaBeats_Gita_MP3/Bhagavad-gita 6.22.mp3\n",
      "Fixed permissions for file: /home/manideepdonkena/Documents/SPRITUAL/audio_download/BrajaBeats_Gita_MP3/Bhagavad-gita 15.15.mp3\n",
      "Fixed permissions for file: /home/manideepdonkena/Documents/SPRITUAL/audio_download/BrajaBeats_Gita_MP3/Bhagavad-gita 18.30.mp3\n",
      "Fixed permissions for file: /home/manideepdonkena/Documents/SPRITUAL/audio_download/BrajaBeats_Gita_MP3/Bhagavad-gita 16.3.mp3\n",
      "Fixed permissions for file: /home/manideepdonkena/Documents/SPRITUAL/audio_download/BrajaBeats_Gita_MP3/Bhagavad-gita 3.4.mp3\n",
      "Fixed permissions for file: /home/manideepdonkena/Documents/SPRITUAL/audio_download/BrajaBeats_Gita_MP3/Bhagavad-gita 17.19.mp3\n",
      "Fixed permissions for file: /home/manideepdonkena/Documents/SPRITUAL/audio_download/BrajaBeats_Gita_MP3/Bhagavad-gita 2.2.mp3\n",
      "Fixed permissions for file: /home/manideepdonkena/Documents/SPRITUAL/audio_download/BrajaBeats_Gita_MP3/Bhagavad-gita 2.7.mp3\n",
      "Fixed permissions for file: /home/manideepdonkena/Documents/SPRITUAL/audio_download/BrajaBeats_Gita_MP3/Bhagavad-gita 14.17.mp3\n",
      "Fixed permissions for file: /home/manideepdonkena/Documents/SPRITUAL/audio_download/BrajaBeats_Gita_MP3/Bhagavad-gita 3.34.mp3\n",
      "Fixed permissions for file: /home/manideepdonkena/Documents/SPRITUAL/audio_download/BrajaBeats_Gita_MP3/Bhagavad-gita 3.14.mp3\n",
      "Fixed permissions for file: /home/manideepdonkena/Documents/SPRITUAL/audio_download/BrajaBeats_Gita_MP3/Bhagavad-gita 7.13.mp3\n",
      "Fixed permissions for file: /home/manideepdonkena/Documents/SPRITUAL/audio_download/BrajaBeats_Gita_MP3/Bhagavad-gita 2.50.mp3\n",
      "Fixed permissions for file: /home/manideepdonkena/Documents/SPRITUAL/audio_download/BrajaBeats_Gita_MP3/Bhagavad-gita 8.7.mp3\n",
      "Fixed permissions for file: /home/manideepdonkena/Documents/SPRITUAL/audio_download/BrajaBeats_Gita_MP3/Bhagavad-gita 3.30.mp3\n",
      "Fixed permissions for file: /home/manideepdonkena/Documents/SPRITUAL/audio_download/BrajaBeats_Gita_MP3/Bhagavad-gita 3.3.mp3\n",
      "Fixed permissions for file: /home/manideepdonkena/Documents/SPRITUAL/audio_download/BrajaBeats_Gita_MP3/Bhagavad-gita 15.14.mp3\n",
      "Fixed permissions for file: /home/manideepdonkena/Documents/SPRITUAL/audio_download/BrajaBeats_Gita_MP3/Bhagavad-gita 1.16.mp3\n",
      "Fixed permissions for file: /home/manideepdonkena/Documents/SPRITUAL/audio_download/BrajaBeats_Gita_MP3/Bhagavad-gita 7.17.mp3\n"
     ]
    }
   ],
   "source": [
    "# Check file permissions and fix if needed\n",
    "import os\n",
    "import stat\n",
    "\n",
    "def fix_permissions(directory):\n",
    "    try:\n",
    "        # Fix directory permissions\n",
    "        os.chmod(directory, stat.S_IRWXU | stat.S_IRWXG | stat.S_IROTH | stat.S_IXOTH)\n",
    "        print(f\"Fixed permissions for directory: {directory}\")\n",
    "        \n",
    "        # Fix file permissions inside the directory\n",
    "        if os.path.exists(directory) and os.path.isdir(directory):\n",
    "            for item in os.listdir(directory):\n",
    "                item_path = os.path.join(directory, item)\n",
    "                if os.path.isfile(item_path):\n",
    "                    os.chmod(item_path, stat.S_IRUSR | stat.S_IWUSR | stat.S_IRGRP | stat.S_IWGRP | stat.S_IROTH)\n",
    "                    print(f\"Fixed permissions for file: {item_path}\")\n",
    "        return True\n",
    "    except Exception as e:\n",
    "        print(f\"Error fixing permissions: {e}\")\n",
    "        return False\n",
    "\n",
    "# Fix permissions for current directory and audio directory\n",
    "current_dir = os.getcwd()\n",
    "audio_dir = os.path.join(current_dir, \"BrajaBeats_Gita_MP3\")\n",
    "\n",
    "print(\"Fixing permissions for current directory...\")\n",
    "fix_permissions(current_dir)\n",
    "\n",
    "if os.path.exists(audio_dir):\n",
    "    print(\"\\nFixing permissions for audio directory...\")\n",
    "    fix_permissions(audio_dir)\n",
    "else:\n",
    "    print(f\"\\nAudio directory not found at {audio_dir}\")\n"
   ]
  },
  {
   "cell_type": "code",
   "execution_count": null,
   "id": "81ad9224",
   "metadata": {},
   "outputs": [],
   "source": []
  },
  {
   "cell_type": "code",
   "execution_count": null,
   "id": "a266b55c",
   "metadata": {},
   "outputs": [],
   "source": []
  }
 ],
 "metadata": {
  "kernelspec": {
   "display_name": "dairy",
   "language": "python",
   "name": "python3"
  },
  "language_info": {
   "codemirror_mode": {
    "name": "ipython",
    "version": 3
   },
   "file_extension": ".py",
   "mimetype": "text/x-python",
   "name": "python",
   "nbconvert_exporter": "python",
   "pygments_lexer": "ipython3",
   "version": "3.10.12"
  }
 },
 "nbformat": 4,
 "nbformat_minor": 5
}
